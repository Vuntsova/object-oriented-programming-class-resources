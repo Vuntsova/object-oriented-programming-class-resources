{
 "cells": [
  {
   "cell_type": "markdown",
   "metadata": {},
   "source": [
    "# OOP Bookstore\n",
    "\n",
    "![bookstore uml](https://user-images.githubusercontent.com/872296/37122310-ce8b42d2-223e-11e8-9c31-02df0b68688f.png)\n"
   ]
  },
  {
   "cell_type": "code",
   "execution_count": 235,
   "metadata": {},
   "outputs": [],
   "source": [
    "class Bookstore(object):\n",
    "    def __init__(self, bookstore_name):\n",
    "        self.bookstore_name = bookstore_name\n",
    "        self.books = []\n",
    "    \n",
    "    def get_books(self):\n",
    "        return self.books\n",
    "    \n",
    "    def add_book(self, book):\n",
    "        self.books.append(book)\n",
    "        \n",
    "    def search_books(self, title = None, author=None):\n",
    "        result=[]\n",
    "        for b in self.books:\n",
    "            if title and title.lower() not in b.title.lower():\n",
    "                continue\n",
    "            if author and author != b.author:\n",
    "                continue\n",
    "            result.append(b)\n",
    "        return result\n",
    "            \n",
    "            \n",
    "\n",
    "class Author(object):\n",
    "    def __init__(self, name, nationality):\n",
    "        self.name = name\n",
    "        self.nationality = nationality\n",
    "        self.books = []\n",
    "        \n",
    "    def get_books(self):\n",
    "        return self.books\n",
    "    \n",
    "    def add_book(self, book):\n",
    "        self.books.append(book)\n",
    "        \n",
    "    def __repr__(self):\n",
    "        return \"Author(name='{}',nationality='{}')\".format(self.name, self.nationality)\n",
    "\n",
    "class Book(object):\n",
    "    def __init__(self, title, author):\n",
    "        self.title = title\n",
    "        self.author = author\n",
    "        \n",
    "        self.author.add_book(self)\n",
    "        \n",
    "    def __str__(self):\n",
    "        return \"'{}' by {}\".format(self.title, self.author)\n",
    "\n",
    "    def __repr__(self):\n",
    "        return \"Book('{}', author={})\".format(self.title, repr(self.author.name))\n",
    "        \n",
    "        \n",
    "        \n",
    "    \n",
    "        "
   ]
  },
  {
   "cell_type": "markdown",
   "metadata": {},
   "source": [
    "##### Step 1\n",
    "Attributes of an author"
   ]
  },
  {
   "cell_type": "code",
   "execution_count": 236,
   "metadata": {},
   "outputs": [
    {
     "name": "stdout",
     "output_type": "stream",
     "text": [
      "Edgar Allan Poe\n",
      "US\n",
      "Jane Austen\n",
      "UK\n"
     ]
    }
   ],
   "source": [
    "poe = Author('Edgar Allan Poe', 'US')\n",
    "austen = Author(\"Jane Austen\", 'UK')\n",
    "print(poe.name)\n",
    "print(poe.nationality)\n",
    "print(austen.name)\n",
    "print(austen.nationality)"
   ]
  },
  {
   "cell_type": "markdown",
   "metadata": {},
   "source": [
    "##### Step 2\n",
    "Attributes of books"
   ]
  },
  {
   "cell_type": "code",
   "execution_count": 237,
   "metadata": {},
   "outputs": [
    {
     "name": "stdout",
     "output_type": "stream",
     "text": [
      "The Facts in the Case of M. Valdemar\n",
      "Pride and Prejudice\n"
     ]
    }
   ],
   "source": [
    "poe = Author('Edgar Allan Poe', 'US')\n",
    "austen = Author(\"Jane Austen\", 'UK')\n",
    "\n",
    "valdemar = Book(\"The Facts in the Case of M. Valdemar\", author=poe)\n",
    "pride = Book(\"Pride and Prejudice\", author=austen)\n",
    "\n",
    "print(valdemar.title)\n",
    "print(pride.title)"
   ]
  },
  {
   "cell_type": "markdown",
   "metadata": {},
   "source": [
    "What about the author?"
   ]
  },
  {
   "cell_type": "code",
   "execution_count": 238,
   "metadata": {},
   "outputs": [
    {
     "name": "stdout",
     "output_type": "stream",
     "text": [
      "Author(name='Edgar Allan Poe',nationality='US')\n"
     ]
    }
   ],
   "source": [
    "print(valdemar.author)"
   ]
  },
  {
   "cell_type": "markdown",
   "metadata": {},
   "source": [
    "Looks ugly right? Let's inspect the number. We'll fix this ugly **_representation_** later..."
   ]
  },
  {
   "cell_type": "code",
   "execution_count": 239,
   "metadata": {},
   "outputs": [
    {
     "name": "stdout",
     "output_type": "stream",
     "text": [
      "Edgar Allan Poe\n"
     ]
    }
   ],
   "source": [
    "print(valdemar.author.name)"
   ]
  },
  {
   "cell_type": "markdown",
   "metadata": {},
   "source": [
    "##### Step 3\n",
    "\n",
    "Reversed relation: All the books written by a certain author:"
   ]
  },
  {
   "cell_type": "code",
   "execution_count": 240,
   "metadata": {},
   "outputs": [],
   "source": [
    "poe = Author('Edgar Allan Poe', 'US')\n",
    "\n",
    "valdemar = Book(\"The Facts in the Case of M. Valdemar\", author=poe)\n",
    "raven = Book(\"The Raven\", author=poe)\n"
   ]
  },
  {
   "cell_type": "code",
   "execution_count": 241,
   "metadata": {},
   "outputs": [
    {
     "data": {
      "text/plain": [
       "[Book('The Facts in the Case of M. Valdemar', author='Edgar Allan Poe'),\n",
       " Book('The Raven', author='Edgar Allan Poe')]"
      ]
     },
     "execution_count": 241,
     "metadata": {},
     "output_type": "execute_result"
    }
   ],
   "source": [
    "poe.get_books()"
   ]
  },
  {
   "cell_type": "code",
   "execution_count": 242,
   "metadata": {},
   "outputs": [
    {
     "data": {
      "text/plain": [
       "'The Facts in the Case of M. Valdemar'"
      ]
     },
     "execution_count": 242,
     "metadata": {},
     "output_type": "execute_result"
    }
   ],
   "source": [
    "book_0 = poe.get_books()[0]\n",
    "book_0.title"
   ]
  },
  {
   "cell_type": "markdown",
   "metadata": {},
   "source": [
    "### Bookstore\n",
    "\n",
    "##### Step 4\n",
    "\n",
    "A bookstore contains books... Which in turn, contain authors"
   ]
  },
  {
   "cell_type": "code",
   "execution_count": 243,
   "metadata": {},
   "outputs": [
    {
     "data": {
      "text/plain": [
       "[]"
      ]
     },
     "execution_count": 243,
     "metadata": {},
     "output_type": "execute_result"
    }
   ],
   "source": [
    "store = Bookstore(\"RMOTR's bookstore\")\n",
    "store.get_books()\n"
   ]
  },
  {
   "cell_type": "markdown",
   "metadata": {},
   "source": [
    "Just created, this bookstore should no books yet. An empty list:"
   ]
  },
  {
   "cell_type": "markdown",
   "metadata": {},
   "source": [
    "##### Step 5\n",
    "We add books to the Bookstore using the `add_book` method. That way the bookstore can keep its implementation \"hidden\" to the outside world."
   ]
  },
  {
   "cell_type": "code",
   "execution_count": 244,
   "metadata": {},
   "outputs": [],
   "source": [
    "# Some authors\n",
    "poe = Author('Edgar Allan Poe', 'US')\n",
    "austen = Author(\"Jane Austen\", 'UK')\n",
    "\n",
    "# Some books\n",
    "valdemar = Book(\"The Facts in the Case of M. Valdemar\", author=poe)\n",
    "raven = Book(\"The Raven\", author=poe)\n",
    "\n",
    "pride = Book(\"Pride and Prejudice\", author=austen)\n",
    "emma = Book(\"Emma\", author=austen)\n",
    "\n",
    "store = Bookstore(\"RMOTR's bookstore\")\n",
    "\n",
    "# Austen first:\n",
    "store.add_book(pride)\n",
    "store.add_book(emma)\n",
    "# finally Poe:\n",
    "store.add_book(valdemar)\n",
    "store.add_book(raven)"
   ]
  },
  {
   "cell_type": "code",
   "execution_count": 245,
   "metadata": {
    "scrolled": true
   },
   "outputs": [
    {
     "data": {
      "text/plain": [
       "[Book('Pride and Prejudice', author='Jane Austen'),\n",
       " Book('Emma', author='Jane Austen'),\n",
       " Book('The Facts in the Case of M. Valdemar', author='Edgar Allan Poe'),\n",
       " Book('The Raven', author='Edgar Allan Poe')]"
      ]
     },
     "execution_count": 245,
     "metadata": {},
     "output_type": "execute_result"
    }
   ],
   "source": [
    "store.get_books()"
   ]
  },
  {
   "cell_type": "markdown",
   "metadata": {},
   "source": [
    "##### Step 6\n",
    "Do you see those ugly `<__main__.Book at 0x10407c780>` prints? Fix them using a `__str__` magic method. What are Magic Methods? You'll have to wait until next week 😉."
   ]
  },
  {
   "cell_type": "code",
   "execution_count": 246,
   "metadata": {},
   "outputs": [
    {
     "name": "stdout",
     "output_type": "stream",
     "text": [
      "'Pride and Prejudice' by Author(name='Jane Austen',nationality='UK')\n",
      "'Emma' by Author(name='Jane Austen',nationality='UK')\n",
      "'The Facts in the Case of M. Valdemar' by Author(name='Edgar Allan Poe',nationality='US')\n",
      "'The Raven' by Author(name='Edgar Allan Poe',nationality='US')\n"
     ]
    }
   ],
   "source": [
    "for book in store.get_books():\n",
    "    print(book)"
   ]
  },
  {
   "cell_type": "markdown",
   "metadata": {},
   "source": [
    "But `store.get_books()` looks still ugly:"
   ]
  },
  {
   "cell_type": "code",
   "execution_count": 247,
   "metadata": {},
   "outputs": [
    {
     "data": {
      "text/plain": [
       "[Book('Pride and Prejudice', author='Jane Austen'),\n",
       " Book('Emma', author='Jane Austen'),\n",
       " Book('The Facts in the Case of M. Valdemar', author='Edgar Allan Poe'),\n",
       " Book('The Raven', author='Edgar Allan Poe')]"
      ]
     },
     "execution_count": 247,
     "metadata": {},
     "output_type": "execute_result"
    }
   ],
   "source": [
    "store.get_books()"
   ]
  },
  {
   "cell_type": "markdown",
   "metadata": {},
   "source": [
    "We need a `__repr__` magic method..."
   ]
  },
  {
   "cell_type": "code",
   "execution_count": 248,
   "metadata": {},
   "outputs": [
    {
     "data": {
      "text/plain": [
       "[Book('Pride and Prejudice', author='Jane Austen'),\n",
       " Book('Emma', author='Jane Austen'),\n",
       " Book('The Facts in the Case of M. Valdemar', author='Edgar Allan Poe'),\n",
       " Book('The Raven', author='Edgar Allan Poe')]"
      ]
     },
     "execution_count": 248,
     "metadata": {},
     "output_type": "execute_result"
    }
   ],
   "source": [
    "store.get_books()"
   ]
  },
  {
   "cell_type": "markdown",
   "metadata": {},
   "source": [
    "### Search books\n",
    "\n",
    "Implement the method `Bookstore.search_book`. It accepts two optional parameters: `title` (case insensitive) and `author`. Example:\n",
    "\n",
    "```python\n",
    "# Searching *just* by title:\n",
    "store.search_books(title='raven')\n",
    "\n",
    "# Searching *just* by author:\n",
    "poe = Author('Edgar Allan Poe', 'US')\n",
    "store.search_books(author=poe)\n",
    "\n",
    "# Searching by both title *and* author:\n",
    "poe = Author('Edgar Allan Poe', 'US')\n",
    "store.search_books(title='raven', author=poe)\n",
    "```"
   ]
  },
  {
   "cell_type": "markdown",
   "metadata": {},
   "source": [
    "Use the following code to test:"
   ]
  },
  {
   "cell_type": "code",
   "execution_count": 249,
   "metadata": {},
   "outputs": [],
   "source": [
    "# Some authors\n",
    "poe = Author('Edgar Allan Poe', 'US')\n",
    "austen = Author(\"Jane Austen\", 'UK')\n",
    "\n",
    "# Some books\n",
    "valdemar = Book(\"The Facts in the Case of M. Valdemar\", author=poe)\n",
    "raven = Book(\"The Raven\", author=poe)\n",
    "\n",
    "pride = Book(\"Pride and Prejudice\", author=austen)\n",
    "emma = Book(\"Emma\", author=austen)\n",
    "\n",
    "store = Bookstore(\"RMOTR's bookstore\")\n",
    "\n",
    "# Austen first:\n",
    "store.add_book(pride)\n",
    "store.add_book(emma)\n",
    "store.add_book(valdemar)\n",
    "store.add_book(raven)"
   ]
  },
  {
   "cell_type": "code",
   "execution_count": 253,
   "metadata": {},
   "outputs": [
    {
     "data": {
      "text/plain": [
       "[]"
      ]
     },
     "execution_count": 253,
     "metadata": {},
     "output_type": "execute_result"
    }
   ],
   "source": [
    "store.search_books('author='Edgar Allan 'Poe')"
   ]
  },
  {
   "cell_type": "code",
   "execution_count": null,
   "metadata": {},
   "outputs": [],
   "source": []
  },
  {
   "cell_type": "code",
   "execution_count": null,
   "metadata": {},
   "outputs": [],
   "source": []
  },
  {
   "cell_type": "code",
   "execution_count": null,
   "metadata": {},
   "outputs": [],
   "source": []
  },
  {
   "cell_type": "code",
   "execution_count": null,
   "metadata": {},
   "outputs": [],
   "source": []
  }
 ],
 "metadata": {
  "kernelspec": {
   "display_name": "Python 3",
   "language": "python",
   "name": "python3"
  },
  "language_info": {
   "codemirror_mode": {
    "name": "ipython",
    "version": 3
   },
   "file_extension": ".py",
   "mimetype": "text/x-python",
   "name": "python",
   "nbconvert_exporter": "python",
   "pygments_lexer": "ipython3",
   "version": "3.6.8"
  }
 },
 "nbformat": 4,
 "nbformat_minor": 2
}
